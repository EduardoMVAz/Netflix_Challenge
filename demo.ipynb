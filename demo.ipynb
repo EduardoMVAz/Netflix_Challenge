{
 "cells": [
  {
   "attachments": {},
   "cell_type": "markdown",
   "metadata": {},
   "source": [
    "# Demo Test"
   ]
  },
  {
   "cell_type": "code",
   "execution_count": 3,
   "metadata": {},
   "outputs": [],
   "source": [
    "from MoviePredicter import MoviePredicter\n",
    "import pandas as pd\n",
    "import numpy as np"
   ]
  },
  {
   "cell_type": "code",
   "execution_count": 1,
   "metadata": {},
   "outputs": [],
   "source": [
    "def predict(data, zero_val=True):\n",
    "    # Selects a random row and a random column from the data matrix\n",
    "    i = np.random.randint(0, data.shape[0])\n",
    "    j = np.random.randint(0, data.shape[1])\n",
    "\n",
    "    real_score = data[i][j]\n",
    "\n",
    "    if zero_val:\n",
    "        while real_score == 0:\n",
    "            i = np.random.randint(0, data.shape[0])\n",
    "            j = np.random.randint(0, data.shape[1])\n",
    "\n",
    "            real_score = data[i][j]\n",
    "\n",
    "    # Inserts noise into the data matrix\n",
    "    data[i][j] = np.random.randint(0, 5)\n",
    "\n",
    "    mp = MoviePredicter(data)\n",
    "\n",
    "    predicted_score = mp.predict(i, j)\n",
    "\n",
    "    print(f'Real score: {real_score}')\n",
    "    print(f'Predicted score: {predicted_score}')\n",
    "\n",
    "    return real_score - predicted_score"
   ]
  },
  {
   "cell_type": "code",
   "execution_count": 7,
   "metadata": {},
   "outputs": [],
   "source": [
    "df = pd.read_csv('ratings_small.csv')\n",
    "\n",
    "data = pd.pivot_table(df, values='rating', index='userId', columns='movieId', fill_value=0) # fill_value=np.mean(df['rating'])\n",
    "\n",
    "data = data.to_numpy()"
   ]
  },
  {
   "cell_type": "code",
   "execution_count": 8,
   "metadata": {},
   "outputs": [
    {
     "name": "stdout",
     "output_type": "stream",
     "text": [
      "Real score: 3.543608255669773\n",
      "Predicted score: 3.5392720218713944\n",
      "Real score: 3.543608255669773\n",
      "Predicted score: 3.4947386786457297\n",
      "Real score: 3.543608255669773\n",
      "Predicted score: 0.030171187988529406\n",
      "Real score: 3.543608255669773\n",
      "Predicted score: 3.4694867729895806\n",
      "Real score: 3.543608255669773\n",
      "Predicted score: 3.544094434789726\n",
      "Real score: 3.543608255669773\n",
      "Predicted score: 3.446398728582137\n",
      "Real score: 3.543608255669773\n",
      "Predicted score: 3.5350017739455266\n",
      "Real score: 3.543608255669773\n",
      "Predicted score: 3.5361785355097624\n",
      "Real score: 3.543608255669773\n",
      "Predicted score: 3.443957358409319\n",
      "Real score: 3.543608255669773\n",
      "Predicted score: 3.5456477534717212\n"
     ]
    }
   ],
   "source": [
    "errors = []\n",
    "for i in range(10):\n",
    "    errors.append(predict(data))"
   ]
  },
  {
   "cell_type": "code",
   "execution_count": 9,
   "metadata": {},
   "outputs": [
    {
     "name": "stdout",
     "output_type": "stream",
     "text": [
      "[0.004336233798378775, 0.04886957702404349, 3.513437067681244, 0.07412148268019259, -0.0004861791199526344, 0.09720952708763608, 0.008606481724246606, 0.0074297201600108664, 0.0996508972604544, -0.0020394978019480092]\n"
     ]
    }
   ],
   "source": [
    "print(errors)"
   ]
  },
  {
   "cell_type": "code",
   "execution_count": 6,
   "metadata": {},
   "outputs": [
    {
     "name": "stdout",
     "output_type": "stream",
     "text": [
      "[4.72544355550091, 4.1996877329719755, 2.1459848574393137, 2.1868634496669577, 1.7113184167267814, 2.4122336585544364, 3.950804157649862, -0.004351741809696108, 0.27375139251438085, 1.101047131044091]\n"
     ]
    }
   ],
   "source": [
    "print(errors)"
   ]
  },
  {
   "cell_type": "code",
   "execution_count": null,
   "metadata": {},
   "outputs": [],
   "source": [
    "import matplotlib.pyplot as plt\n",
    "\n",
    "plt.figure()\n",
    "plt.hist(errors, bins=5)\n",
    "plt.show()"
   ]
  }
 ],
 "metadata": {
  "kernelspec": {
   "display_name": "env",
   "language": "python",
   "name": "python3"
  },
  "language_info": {
   "codemirror_mode": {
    "name": "ipython",
    "version": 3
   },
   "file_extension": ".py",
   "mimetype": "text/x-python",
   "name": "python",
   "nbconvert_exporter": "python",
   "pygments_lexer": "ipython3",
   "version": "3.10.4"
  },
  "orig_nbformat": 4
 },
 "nbformat": 4,
 "nbformat_minor": 2
}
